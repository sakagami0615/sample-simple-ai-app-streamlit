{
 "cells": [
  {
   "cell_type": "markdown",
   "metadata": {},
   "source": [
    "# モデルの構築と訓練"
   ]
  },
  {
   "cell_type": "code",
   "execution_count": 3,
   "metadata": {},
   "outputs": [],
   "source": [
    "# パス追加処理\n",
    "# commonフォルダにあるスクリプトのインポート\n",
    "from pathlib import Path\n",
    "import sys\n",
    "\n",
    "sys.path.append(str(Path().resolve().parent))"
   ]
  },
  {
   "cell_type": "code",
   "execution_count": 4,
   "metadata": {},
   "outputs": [],
   "source": [
    "import torch\n",
    "\n",
    "device = torch.device(\"cuda\" if torch.cuda.is_available() else \"cpu\")"
   ]
  },
  {
   "cell_type": "code",
   "execution_count": 5,
   "metadata": {},
   "outputs": [],
   "source": [
    "# パラメータ用意\n",
    "from collections import namedtuple\n",
    "\n",
    "Param = namedtuple(\"Param\", [\n",
    "    \"n_epoch\",\"batch_size\", \"lr\", \"verbose\",        # 学習パラメータ\n",
    "    \"load_data_path\",                               # データ保存パス\n",
    "    \"save_model_path\",                              # モデル保存パス\n",
    "])\n",
    "\n",
    "param = Param(\n",
    "    30,                                             # n_epoch\n",
    "    64,                                             # batch_size\n",
    "    0.001,                                          # lr\n",
    "    1,                                              # verbose\n",
    "    \"./.data\",                                      # load_data_path\n",
    "    \"./model_param/latest_train_model.pth\",         # save_model_path\n",
    ")"
   ]
  },
  {
   "cell_type": "markdown",
   "metadata": {},
   "source": [
    "## 訓練データ用意"
   ]
  },
  {
   "cell_type": "code",
   "execution_count": 6,
   "metadata": {},
   "outputs": [],
   "source": [
    "from torchvision import transforms\n",
    "\n",
    "affine = transforms.RandomAffine(\n",
    "    (-30, 30),              # 回転\n",
    "    scale=(0.8, 1.2),       # 拡大縮小\n",
    "    translate=(0.5, 0.5)    # 並行移動\n",
    ")\n",
    "flip = transforms.RandomHorizontalFlip(p=0.5)       # 左右反転\n",
    "invert = transforms.RandomInvert(p=0.5)             # 色反転\n",
    "to_tensor = transforms.ToTensor()                   # テンソル変換\n",
    "normalize = transforms.Normalize((0.0), (1.0))      # 正規化(平均:0, 標準偏差:1)\n",
    "erase = transforms.RandomErasing(p=0.5)             # マスキング"
   ]
  },
  {
   "cell_type": "code",
   "execution_count": 7,
   "metadata": {},
   "outputs": [],
   "source": [
    "# transform用意\n",
    "transform_train = transforms.Compose([affine, flip, invert, to_tensor, normalize, erase])\n",
    "transform_test = transforms.Compose([to_tensor, normalize])"
   ]
  },
  {
   "cell_type": "code",
   "execution_count": 8,
   "metadata": {},
   "outputs": [],
   "source": [
    "# データ用意\n",
    "from torchvision.datasets import FashionMNIST\n",
    "\n",
    "fashion_train = FashionMNIST(param.load_data_path, train=True, download=True, transform=transform_train)\n",
    "fashion_test = FashionMNIST(param.load_data_path, train=False, download=True, transform=transform_test)"
   ]
  },
  {
   "cell_type": "code",
   "execution_count": 9,
   "metadata": {},
   "outputs": [],
   "source": [
    "# DataLoader用意\n",
    "from torch.utils.data import DataLoader\n",
    "\n",
    "train_loader = DataLoader(fashion_train, batch_size=param.batch_size, shuffle=True)\n",
    "test_loader = DataLoader(fashion_test, batch_size=param.batch_size, shuffle=False)"
   ]
  },
  {
   "cell_type": "markdown",
   "metadata": {},
   "source": [
    "## モデル構築"
   ]
  },
  {
   "cell_type": "code",
   "execution_count": 10,
   "metadata": {},
   "outputs": [],
   "source": [
    "from common.network import Net\n",
    "\n",
    "net = Net()\n",
    "net = net.to(device)"
   ]
  },
  {
   "cell_type": "code",
   "execution_count": 11,
   "metadata": {},
   "outputs": [
    {
     "data": {
      "text/plain": [
       "Net(\n",
       "  (conv1): Conv2d(1, 8, kernel_size=(3, 3), stride=(1, 1))\n",
       "  (conv2): Conv2d(8, 16, kernel_size=(3, 3), stride=(1, 1))\n",
       "  (bn1): BatchNorm2d(16, eps=1e-05, momentum=0.1, affine=True, track_running_stats=True)\n",
       "  (conv3): Conv2d(16, 32, kernel_size=(3, 3), stride=(1, 1))\n",
       "  (conv4): Conv2d(32, 64, kernel_size=(3, 3), stride=(1, 1))\n",
       "  (bn2): BatchNorm2d(64, eps=1e-05, momentum=0.1, affine=True, track_running_stats=True)\n",
       "  (pool): MaxPool2d(kernel_size=2, stride=2, padding=0, dilation=1, ceil_mode=False)\n",
       "  (relu): ReLU()\n",
       "  (fc1): Linear(in_features=1024, out_features=256, bias=True)\n",
       "  (dropout): Dropout(p=0.5, inplace=False)\n",
       "  (fc2): Linear(in_features=256, out_features=10, bias=True)\n",
       ")"
      ]
     },
     "execution_count": 11,
     "metadata": {},
     "output_type": "execute_result"
    }
   ],
   "source": [
    "net"
   ]
  },
  {
   "cell_type": "markdown",
   "metadata": {},
   "source": [
    "## 学習"
   ]
  },
  {
   "cell_type": "code",
   "execution_count": 12,
   "metadata": {},
   "outputs": [
    {
     "name": "stdout",
     "output_type": "stream",
     "text": [
      "Epoch: 1, Loss(Train): 1.8722395720258196, Loss(Test): 1.2947222191816683\n",
      "Epoch: 2, Loss(Train): 1.5779553635288148, Loss(Test): 1.1357071802114984\n",
      "Epoch: 3, Loss(Train): 1.484864298468714, Loss(Test): 1.0150757993862127\n",
      "Epoch: 4, Loss(Train): 1.4070750003430381, Loss(Test): 0.9526954502057118\n",
      "Epoch: 5, Loss(Train): 1.3599784316411658, Loss(Test): 1.0382259848770823\n",
      "Epoch: 6, Loss(Train): 1.3191562232051068, Loss(Test): 0.7999734248325323\n",
      "Epoch: 7, Loss(Train): 1.2873496310924417, Loss(Test): 0.7643115402786596\n",
      "Epoch: 8, Loss(Train): 1.2504562340311405, Loss(Test): 0.769139297069258\n",
      "Epoch: 9, Loss(Train): 1.2234913917111436, Loss(Test): 0.7712670560855015\n",
      "Epoch: 10, Loss(Train): 1.200419548033143, Loss(Test): 0.7298377957313683\n",
      "Epoch: 11, Loss(Train): 1.1841762461133603, Loss(Test): 0.6979786030426147\n",
      "Epoch: 12, Loss(Train): 1.170539353193759, Loss(Test): 0.7082459448249476\n",
      "Epoch: 13, Loss(Train): 1.1474881270038548, Loss(Test): 0.7081948809183327\n",
      "Epoch: 14, Loss(Train): 1.1334626590773496, Loss(Test): 0.6466380576039575\n",
      "Epoch: 15, Loss(Train): 1.1211987402139187, Loss(Test): 0.726542897854641\n",
      "Epoch: 16, Loss(Train): 1.1052211005169192, Loss(Test): 0.7473988242589744\n",
      "Epoch: 17, Loss(Train): 1.091544740934616, Loss(Test): 0.6280867808563694\n",
      "Epoch: 18, Loss(Train): 1.0771696697801416, Loss(Test): 0.6401535320054194\n",
      "Epoch: 19, Loss(Train): 1.0685019459424496, Loss(Test): 0.7160334429543489\n",
      "Epoch: 20, Loss(Train): 1.058182783218335, Loss(Test): 0.6088954639282955\n",
      "Epoch: 21, Loss(Train): 1.0510074027311573, Loss(Test): 0.6062653446273439\n",
      "Epoch: 22, Loss(Train): 1.0405858237224856, Loss(Test): 0.627081796431997\n",
      "Epoch: 23, Loss(Train): 1.034493150106117, Loss(Test): 0.6167761763190008\n",
      "Epoch: 24, Loss(Train): 1.0219835628197391, Loss(Test): 0.6396380241509456\n",
      "Epoch: 25, Loss(Train): 1.019519532158939, Loss(Test): 0.5812263088241504\n",
      "Epoch: 26, Loss(Train): 1.012689850350687, Loss(Test): 0.5890348491015708\n",
      "Epoch: 27, Loss(Train): 1.0040426588515992, Loss(Test): 0.5861458615132957\n",
      "Epoch: 28, Loss(Train): 1.0049702701156835, Loss(Test): 0.5823756948018529\n",
      "Epoch: 29, Loss(Train): 0.9938434290606329, Loss(Test): 0.5640281594482957\n",
      "Epoch: 30, Loss(Train): 0.987004040083143, Loss(Test): 0.5555109586685326\n"
     ]
    }
   ],
   "source": [
    "from torch import nn\n",
    "from torch import optim\n",
    "\n",
    "# 損失関数、最適化アルゴリズム\n",
    "loss_func = nn.CrossEntropyLoss()\n",
    "optimizer = optim.Adam(net.parameters(), lr=param.lr)\n",
    "\n",
    "# 損失のログ\n",
    "record_loss_train = []\n",
    "record_loss_test = []\n",
    "\n",
    "# 学習\n",
    "for epoch in range(param.n_epoch):\n",
    "    # --------------------------------------------------\n",
    "    # 学習処理\n",
    "    # --------------------------------------------------\n",
    "    net.train()         # 訓練モード\n",
    "    loss_train = 0.0\n",
    "\n",
    "    for (x, t) in train_loader:\n",
    "        x, t = x.to(device), t.to(device)       # GPU環境であれば、GPUにデータを送る\n",
    "        y = net(x)\n",
    "        loss = loss_func(y, t)\n",
    "        loss_train += loss.item()\n",
    "\n",
    "        optimizer.zero_grad()\n",
    "        loss.backward()\n",
    "        optimizer.step()\n",
    "\n",
    "    loss_train /= len(train_loader)\n",
    "    record_loss_train.append(loss_train)\n",
    "\n",
    "    # --------------------------------------------------\n",
    "    # 評価処理\n",
    "    # --------------------------------------------------\n",
    "    net.eval()          # 評価モード\n",
    "    loss_test = 0.0\n",
    "\n",
    "    for (x, t) in test_loader:\n",
    "        x, t = x.to(device), t.to(device)       # GPU環境であれば、GPUにデータを送る\n",
    "        y = net(x)\n",
    "        loss = loss_func(y, t)\n",
    "        loss_test += loss.item()\n",
    "\n",
    "    loss_test /= len(test_loader)\n",
    "    record_loss_test.append(loss_test)\n",
    "\n",
    "    # 進捗表示\n",
    "    if epoch % param.verbose == 0:\n",
    "        print(f\"Epoch: {epoch + 1}, Loss(Train): {loss_train}, Loss(Test): {loss_test}\")"
   ]
  },
  {
   "cell_type": "markdown",
   "metadata": {},
   "source": [
    "## 評価"
   ]
  },
  {
   "cell_type": "markdown",
   "metadata": {},
   "source": [
    "### 誤差の推移"
   ]
  },
  {
   "cell_type": "code",
   "execution_count": 13,
   "metadata": {},
   "outputs": [
    {
     "data": {
      "image/png": "[encoded data removed]",
      "text/plain": [
       "<Figure size 640x480 with 1 Axes>"
      ]
     },
     "metadata": {},
     "output_type": "display_data"
    }
   ],
   "source": [
    "import matplotlib.pyplot as plt\n",
    "\n",
    "plt.plot(range(len(record_loss_train)), record_loss_train, label=\"Train\")\n",
    "plt.plot(range(len(record_loss_test)), record_loss_test, label=\"Test\")\n",
    "plt.legend()\n",
    "\n",
    "plt.xlabel(\"Epoch\")\n",
    "plt.ylabel(\"Error\")\n",
    "plt.show()"
   ]
  },
  {
   "cell_type": "markdown",
   "metadata": {},
   "source": [
    "### 正解率"
   ]
  },
  {
   "cell_type": "code",
   "execution_count": 14,
   "metadata": {},
   "outputs": [
    {
     "name": "stdout",
     "output_type": "stream",
     "text": [
      "accuracy: 0.804\n"
     ]
    }
   ],
   "source": [
    "correct = 0\n",
    "total = 0\n",
    "\n",
    "net.eval()\n",
    "for (x, t) in test_loader:\n",
    "    x, t = x.to(device), t.to(device)\n",
    "    y = net(x)\n",
    "    correct += (y.argmax(1) == t).sum().item()\n",
    "    total += len(x)\n",
    "\n",
    "print(f\"accuracy: {correct / total}\")"
   ]
  },
  {
   "cell_type": "markdown",
   "metadata": {},
   "source": [
    "## モデル保存"
   ]
  },
  {
   "cell_type": "code",
   "execution_count": 15,
   "metadata": {},
   "outputs": [
    {
     "name": "stdout",
     "output_type": "stream",
     "text": [
      "conv1.weight: torch.Size([8, 1, 3, 3])\n",
      "conv1.bias: torch.Size([8])\n",
      "conv2.weight: torch.Size([16, 8, 3, 3])\n",
      "conv2.bias: torch.Size([16])\n",
      "bn1.weight: torch.Size([16])\n",
      "bn1.bias: torch.Size([16])\n",
      "bn1.running_mean: torch.Size([16])\n",
      "bn1.running_var: torch.Size([16])\n",
      "bn1.num_batches_tracked: torch.Size([])\n",
      "conv3.weight: torch.Size([32, 16, 3, 3])\n",
      "conv3.bias: torch.Size([32])\n",
      "conv4.weight: torch.Size([64, 32, 3, 3])\n",
      "conv4.bias: torch.Size([64])\n",
      "bn2.weight: torch.Size([64])\n",
      "bn2.bias: torch.Size([64])\n",
      "bn2.running_mean: torch.Size([64])\n",
      "bn2.running_var: torch.Size([64])\n",
      "bn2.num_batches_tracked: torch.Size([])\n",
      "fc1.weight: torch.Size([256, 1024])\n",
      "fc1.bias: torch.Size([256])\n",
      "fc2.weight: torch.Size([10, 256])\n",
      "fc2.bias: torch.Size([10])\n"
     ]
    }
   ],
   "source": [
    "# state_dict確認\n",
    "for k in net.state_dict():\n",
    "    print(f\"{k}: {net.state_dict()[k].size()}\")"
   ]
  },
  {
   "cell_type": "code",
   "execution_count": 16,
   "metadata": {},
   "outputs": [],
   "source": [
    "# 保存\n",
    "import os\n",
    "\n",
    "os.makedirs(os.path.dirname(param.save_model_path), exist_ok=True)\n",
    "\n",
    "torch.save(net.state_dict(), param.save_model_path)"
   ]
  }
 ],
 "metadata": {
  "kernelspec": {
   "display_name": "ml-env",
   "language": "python",
   "name": "ml-env"
  },
  "language_info": {
   "codemirror_mode": {
    "name": "ipython",
    "version": 3
   },
   "file_extension": ".py",
   "mimetype": "text/x-python",
   "name": "python",
   "nbconvert_exporter": "python",
   "pygments_lexer": "ipython3",
   "version": "3.13.5"
  }
 },
 "nbformat": 4,
 "nbformat_minor": 2
}
